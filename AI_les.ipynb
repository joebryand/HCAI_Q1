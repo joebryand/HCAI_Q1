{
 "cells": [
  {
   "cell_type": "code",
   "execution_count": 1,
   "metadata": {},
   "outputs": [],
   "source": [
    "import pandas as pd\n",
    "import numpy as np\n",
    "import seaborn as sns\n"
   ]
  },
  {
   "cell_type": "code",
   "execution_count": 2,
   "metadata": {},
   "outputs": [],
   "source": [
    "mijn_arr = np.array([1,2,3,4,5])"
   ]
  },
  {
   "cell_type": "code",
   "execution_count": 3,
   "metadata": {},
   "outputs": [],
   "source": [
    "dataset = pd.read_csv(r'100_Batches/Statistics.csv')"
   ]
  },
  {
   "cell_type": "code",
   "execution_count": 4,
   "metadata": {},
   "outputs": [
    {
     "data": {
      "text/html": [
       "<div>\n",
       "<style scoped>\n",
       "    .dataframe tbody tr th:only-of-type {\n",
       "        vertical-align: middle;\n",
       "    }\n",
       "\n",
       "    .dataframe tbody tr th {\n",
       "        vertical-align: top;\n",
       "    }\n",
       "\n",
       "    .dataframe thead th {\n",
       "        text-align: right;\n",
       "    }\n",
       "</style>\n",
       "<table border=\"1\" class=\"dataframe\">\n",
       "  <thead>\n",
       "    <tr style=\"text-align: right;\">\n",
       "      <th></th>\n",
       "      <th>Batch ref</th>\n",
       "      <th>Penicllin_harvested_during_batch(kg)</th>\n",
       "      <th>Penicllin_harvested_end_of_batch (kg)</th>\n",
       "      <th>Penicllin_yield_total (kg)</th>\n",
       "      <th>Fault ref(0-NoFault 1-Fault)</th>\n",
       "    </tr>\n",
       "  </thead>\n",
       "  <tbody>\n",
       "    <tr>\n",
       "      <th>0</th>\n",
       "      <td>1</td>\n",
       "      <td>1066400.0</td>\n",
       "      <td>1720000.0</td>\n",
       "      <td>2786400.0</td>\n",
       "      <td>0</td>\n",
       "    </tr>\n",
       "    <tr>\n",
       "      <th>1</th>\n",
       "      <td>2</td>\n",
       "      <td>985910.0</td>\n",
       "      <td>1340100.0</td>\n",
       "      <td>2326000.0</td>\n",
       "      <td>0</td>\n",
       "    </tr>\n",
       "    <tr>\n",
       "      <th>2</th>\n",
       "      <td>3</td>\n",
       "      <td>1416100.0</td>\n",
       "      <td>1259200.0</td>\n",
       "      <td>2675300.0</td>\n",
       "      <td>0</td>\n",
       "    </tr>\n",
       "    <tr>\n",
       "      <th>3</th>\n",
       "      <td>4</td>\n",
       "      <td>815700.0</td>\n",
       "      <td>1071000.0</td>\n",
       "      <td>1886700.0</td>\n",
       "      <td>0</td>\n",
       "    </tr>\n",
       "    <tr>\n",
       "      <th>4</th>\n",
       "      <td>5</td>\n",
       "      <td>1128500.0</td>\n",
       "      <td>2434400.0</td>\n",
       "      <td>3562900.0</td>\n",
       "      <td>0</td>\n",
       "    </tr>\n",
       "  </tbody>\n",
       "</table>\n",
       "</div>"
      ],
      "text/plain": [
       "   Batch ref  Penicllin_harvested_during_batch(kg)  \\\n",
       "0          1                             1066400.0   \n",
       "1          2                              985910.0   \n",
       "2          3                             1416100.0   \n",
       "3          4                              815700.0   \n",
       "4          5                             1128500.0   \n",
       "\n",
       "   Penicllin_harvested_end_of_batch (kg)  Penicllin_yield_total (kg)  \\\n",
       "0                              1720000.0                   2786400.0   \n",
       "1                              1340100.0                   2326000.0   \n",
       "2                              1259200.0                   2675300.0   \n",
       "3                              1071000.0                   1886700.0   \n",
       "4                              2434400.0                   3562900.0   \n",
       "\n",
       "   Fault ref(0-NoFault 1-Fault)  \n",
       "0                             0  \n",
       "1                             0  \n",
       "2                             0  \n",
       "3                             0  \n",
       "4                             0  "
      ]
     },
     "execution_count": 4,
     "metadata": {},
     "output_type": "execute_result"
    }
   ],
   "source": [
    "dataset.head()"
   ]
  },
  {
   "cell_type": "code",
   "execution_count": 5,
   "metadata": {},
   "outputs": [],
   "source": [
    "dataset_fault = dataset[dataset['Fault ref(0-NoFault 1-Fault)'] == 1]\n",
    "dataset_no_fault = dataset[dataset['Fault ref(0-NoFault 1-Fault)'] == 0]"
   ]
  },
  {
   "cell_type": "code",
   "execution_count": 6,
   "metadata": {},
   "outputs": [
    {
     "data": {
      "text/plain": [
       "<AxesSubplot:xlabel='Penicllin_harvested_during_batch(kg)', ylabel='Density'>"
      ]
     },
     "execution_count": 6,
     "metadata": {},
     "output_type": "execute_result"
    },
    {
     "data": {
      "image/png": "[encoded data removed]",
      "text/plain": [
       "<Figure size 432x288 with 1 Axes>"
      ]
     },
     "metadata": {
      "needs_background": "light"
     },
     "output_type": "display_data"
    }
   ],
   "source": [
    "sns.histplot(dataset_no_fault['Penicllin_harvested_during_batch(kg)'],bins = 15,binrange=(0,2500000),stat= 'density')\n",
    "sns.histplot(dataset_fault['Penicllin_harvested_during_batch(kg)'],bins = 15,binrange=(0,2500000),stat= 'density')"
   ]
  },
  {
   "cell_type": "code",
   "execution_count": 7,
   "metadata": {},
   "outputs": [
    {
     "data": {
      "text/plain": [
       "<AxesSubplot:xlabel='Penicllin_yield_total (kg)', ylabel='Density'>"
      ]
     },
     "execution_count": 7,
     "metadata": {},
     "output_type": "execute_result"
    },
    {
     "data": {
      "image/png": "[encoded data removed]",
      "text/plain": [
       "<Figure size 432x288 with 1 Axes>"
      ]
     },
     "metadata": {
      "needs_background": "light"
     },
     "output_type": "display_data"
    }
   ],
   "source": [
    "sns.histplot(dataset_no_fault['Penicllin_yield_total (kg)'],bins = 15,binrange=(0,5000000),stat= 'density')\n",
    "sns.histplot(dataset_fault['Penicllin_yield_total (kg)'],bins = 15,binrange=(0,5000000),stat= 'density')"
   ]
  },
  {
   "cell_type": "code",
   "execution_count": 12,
   "metadata": {},
   "outputs": [
    {
     "data": {
      "text/plain": [
       "<AxesSubplot:xlabel='Penicllin_yield_total (kg)', ylabel='Density'>"
      ]
     },
     "execution_count": 12,
     "metadata": {},
     "output_type": "execute_result"
    },
    {
     "data": {
      "image/png": "[encoded data removed]",
      "text/plain": [
       "<Figure size 432x288 with 1 Axes>"
      ]
     },
     "metadata": {
      "needs_background": "light"
     },
     "output_type": "display_data"
    }
   ],
   "source": [
    "sns.kdeplot(dataset_no_fault['Penicllin_yield_total (kg)'])\n",
    "sns.kdeplot(dataset_fault['Penicllin_yield_total (kg)'])"
   ]
  },
  {
   "cell_type": "code",
   "execution_count": 9,
   "metadata": {},
   "outputs": [
    {
     "data": {
      "text/plain": [
       "<AxesSubplot:xlabel='Penicllin_harvested_end_of_batch (kg)', ylabel='Density'>"
      ]
     },
     "execution_count": 9,
     "metadata": {},
     "output_type": "execute_result"
    },
    {
     "data": {
      "image/png": "[encoded data removed]",
      "text/plain": [
       "<Figure size 432x288 with 1 Axes>"
      ]
     },
     "metadata": {
      "needs_background": "light"
     },
     "output_type": "display_data"
    }
   ],
   "source": [
    "sns.histplot(dataset_no_fault['Penicllin_harvested_end_of_batch (kg)'],bins = 15,binrange=(0,3000000),stat= 'density')\n",
    "sns.histplot(dataset_fault['Penicllin_harvested_end_of_batch (kg)'],bins = 15,binrange=(0,3000000),stat= 'density')"
   ]
  }
 ],
 "metadata": {
  "kernelspec": {
   "display_name": "Python 3.8.5 64-bit",
   "language": "python",
   "name": "python3"
  },
  "language_info": {
   "codemirror_mode": {
    "name": "ipython",
    "version": 3
   },
   "file_extension": ".py",
   "mimetype": "text/x-python",
   "name": "python",
   "nbconvert_exporter": "python",
   "pygments_lexer": "ipython3",
   "version": "3.8.5"
  },
  "orig_nbformat": 4,
  "vscode": {
   "interpreter": {
    "hash": "570feb405e2e27c949193ac68f46852414290d515b0ba6e5d90d076ed2284471"
   }
  }
 },
 "nbformat": 4,
 "nbformat_minor": 2
}
